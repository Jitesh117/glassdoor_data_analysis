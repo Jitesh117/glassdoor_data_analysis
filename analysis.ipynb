{
 "cells": [
  {
   "cell_type": "code",
   "execution_count": 7,
   "metadata": {},
   "outputs": [],
   "source": [
    "import pandas as pd\n",
    "import matplotlib.pyplot as plt\n",
    "import seaborn as sns\n",
    "import numpy as np\n",
    "import warnings\n",
    "warnings.filterwarnings('ignore')"
   ]
  },
  {
   "cell_type": "code",
   "execution_count": 8,
   "metadata": {},
   "outputs": [
    {
     "name": "stdout",
     "output_type": "stream",
     "text": [
      "<class 'pandas.core.frame.DataFrame'>\n",
      "RangeIndex: 838566 entries, 0 to 838565\n",
      "Data columns (total 18 columns):\n",
      " #   Column               Non-Null Count   Dtype  \n",
      "---  ------               --------------   -----  \n",
      " 0   firm                 838566 non-null  object \n",
      " 1   date_review          838566 non-null  object \n",
      " 2   job_title            838566 non-null  object \n",
      " 3   current              838566 non-null  object \n",
      " 4   location             541223 non-null  object \n",
      " 5   overall_rating       838566 non-null  int64  \n",
      " 6   work_life_balance    688672 non-null  float64\n",
      " 7   culture_values       647193 non-null  float64\n",
      " 8   diversity_inclusion  136066 non-null  float64\n",
      " 9   career_opp           691065 non-null  float64\n",
      " 10  comp_benefits        688484 non-null  float64\n",
      " 11  senior_mgmt          682690 non-null  float64\n",
      " 12  recommend            838566 non-null  object \n",
      " 13  ceo_approv           838566 non-null  object \n",
      " 14  outlook              838566 non-null  object \n",
      " 15  headline             835976 non-null  object \n",
      " 16  pros                 838564 non-null  object \n",
      " 17  cons                 838553 non-null  object \n",
      "dtypes: float64(6), int64(1), object(11)\n",
      "memory usage: 115.2+ MB\n"
     ]
    }
   ],
   "source": [
    "df = pd.read_csv('data/glassdoor_reviews.csv')\n",
    "df.info()"
   ]
  },
  {
   "cell_type": "code",
   "execution_count": 9,
   "metadata": {},
   "outputs": [
    {
     "data": {
      "text/plain": [
       "firm                   108544\n",
       "date_review            108544\n",
       "job_title              108544\n",
       "current                108544\n",
       "location               108544\n",
       "overall_rating         108544\n",
       "work_life_balance      108544\n",
       "culture_values         108544\n",
       "diversity_inclusion    108544\n",
       "career_opp             108544\n",
       "comp_benefits          108544\n",
       "senior_mgmt            108544\n",
       "recommend              108544\n",
       "ceo_approv             108544\n",
       "outlook                108544\n",
       "headline               108544\n",
       "pros                   108544\n",
       "cons                   108544\n",
       "dtype: int64"
      ]
     },
     "execution_count": 9,
     "metadata": {},
     "output_type": "execute_result"
    }
   ],
   "source": [
    "# df.isna().sum()\n",
    "df = df.dropna()\n",
    "df.count()"
   ]
  },
  {
   "cell_type": "code",
   "execution_count": 14,
   "metadata": {},
   "outputs": [
    {
     "name": "stdout",
     "output_type": "stream",
     "text": [
      "<class 'pandas.core.frame.DataFrame'>\n",
      "Index: 108544 entries, 50 to 838565\n",
      "Data columns (total 18 columns):\n",
      " #   Column               Non-Null Count   Dtype  \n",
      "---  ------               --------------   -----  \n",
      " 0   firm                 108544 non-null  object \n",
      " 1   date_review          108544 non-null  object \n",
      " 2   job_title            108544 non-null  object \n",
      " 3   current              108544 non-null  object \n",
      " 4   location             108544 non-null  object \n",
      " 5   overall_rating       108544 non-null  int64  \n",
      " 6   work_life_balance    108544 non-null  float64\n",
      " 7   culture_values       108544 non-null  float64\n",
      " 8   diversity_inclusion  108544 non-null  float64\n",
      " 9   career_opp           108544 non-null  float64\n",
      " 10  comp_benefits        108544 non-null  float64\n",
      " 11  senior_mgmt          108544 non-null  float64\n",
      " 12  recommend            108544 non-null  object \n",
      " 13  ceo_approv           108544 non-null  object \n",
      " 14  outlook              108544 non-null  object \n",
      " 15  headline             108544 non-null  object \n",
      " 16  pros                 108544 non-null  object \n",
      " 17  cons                 108544 non-null  object \n",
      "dtypes: float64(6), int64(1), object(11)\n",
      "memory usage: 15.7+ MB\n"
     ]
    }
   ],
   "source": [
    "df.info() "
   ]
  }
 ],
 "metadata": {
  "kernelspec": {
   "display_name": "Python 3",
   "language": "python",
   "name": "python3"
  },
  "language_info": {
   "codemirror_mode": {
    "name": "ipython",
    "version": 3
   },
   "file_extension": ".py",
   "mimetype": "text/x-python",
   "name": "python",
   "nbconvert_exporter": "python",
   "pygments_lexer": "ipython3",
   "version": "3.10.6"
  },
  "orig_nbformat": 4
 },
 "nbformat": 4,
 "nbformat_minor": 2
}
